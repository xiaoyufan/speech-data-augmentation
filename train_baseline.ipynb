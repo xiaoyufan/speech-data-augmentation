{
  "nbformat": 4,
  "nbformat_minor": 0,
  "metadata": {
    "accelerator": "GPU",
    "colab": {
      "name": "train-baseline.ipynb",
      "provenance": [],
      "collapsed_sections": [
        "djmMcMsMYHuY"
      ],
      "toc_visible": true,
      "machine_shape": "hm",
      "include_colab_link": true
    },
    "kernelspec": {
      "display_name": "Python 3",
      "language": "python",
      "name": "python3"
    },
    "language_info": {
      "codemirror_mode": {
        "name": "ipython",
        "version": 3
      },
      "file_extension": ".py",
      "mimetype": "text/x-python",
      "name": "python",
      "nbconvert_exporter": "python",
      "pygments_lexer": "ipython3",
      "version": "3.6.12"
    },
    "toc": {
      "base_numbering": 1,
      "nav_menu": {},
      "number_sections": true,
      "sideBar": true,
      "skip_h1_title": false,
      "title_cell": "Table of Contents",
      "title_sidebar": "Contents",
      "toc_cell": false,
      "toc_position": {},
      "toc_section_display": true,
      "toc_window_display": false
    },
    "varInspector": {
      "cols": {
        "lenName": 16,
        "lenType": 16,
        "lenVar": 40
      },
      "kernels_config": {
        "python": {
          "delete_cmd_postfix": "",
          "delete_cmd_prefix": "del ",
          "library": "var_list.py",
          "varRefreshCmd": "print(var_dic_list())"
        },
        "r": {
          "delete_cmd_postfix": ") ",
          "delete_cmd_prefix": "rm(",
          "library": "var_list.r",
          "varRefreshCmd": "cat(var_dic_list()) "
        }
      },
      "types_to_exclude": [
        "module",
        "function",
        "builtin_function_or_method",
        "instance",
        "_Feature"
      ],
      "window_display": false
    }
  },
  "cells": [
    {
      "cell_type": "markdown",
      "metadata": {
        "id": "view-in-github",
        "colab_type": "text"
      },
      "source": [
        "<a href=\"https://colab.research.google.com/github/xiaoyufan/speech-data-augmentation/blob/main/train_baseline.ipynb\" target=\"_parent\"><img src=\"https://colab.research.google.com/assets/colab-badge.svg\" alt=\"Open In Colab\"/></a>"
      ]
    },
    {
      "cell_type": "markdown",
      "metadata": {
        "id": "hPOPfVuOirFV"
      },
      "source": [
        "# Preprocess data"
      ]
    },
    {
      "cell_type": "markdown",
      "metadata": {
        "id": "TOfWKNhNirFs"
      },
      "source": [
        "## Setup"
      ]
    },
    {
      "cell_type": "markdown",
      "metadata": {
        "id": "bFfVy0dnirFx"
      },
      "source": [
        "### Create logger"
      ]
    },
    {
      "cell_type": "code",
      "metadata": {
        "colab": {
          "base_uri": "https://localhost:8080/"
        },
        "id": "9S79MdUiirFx",
        "outputId": "b83cf577-b00d-4adc-8460-a7c37990b8fb"
      },
      "source": [
        "from importlib import reload\n",
        "import logging\n",
        "import sys\n",
        "\n",
        "reload(logging)\n",
        "\n",
        "LOGGING_LEVEL = 'DEBUG'\n",
        "\n",
        "logger = logging.getLogger('baseline')\n",
        "logger.setLevel(LOGGING_LEVEL)\n",
        "\n",
        "formatter = logging.Formatter('[%(asctime)s - logger %(name)s - %(levelname)s] %(message)s')\n",
        "\n",
        "ch = logging.StreamHandler(sys.stdout)\n",
        "ch.setFormatter(formatter)\n",
        "logger.addHandler(ch)\n",
        "\n",
        "logger.debug('debug test')\n",
        "logger.info('info test')"
      ],
      "execution_count": 81,
      "outputs": [
        {
          "output_type": "stream",
          "text": [
            "[2020-12-09 21:45:01,643 - logger baseline - DEBUG] debug test\n",
            "[2020-12-09 21:45:01,644 - logger baseline - INFO] info test\n"
          ],
          "name": "stdout"
        }
      ]
    },
    {
      "cell_type": "markdown",
      "metadata": {
        "id": "LJ-rvDakjHwE"
      },
      "source": [
        "### Mount Google Drive"
      ]
    },
    {
      "cell_type": "code",
      "metadata": {
        "colab": {
          "base_uri": "https://localhost:8080/"
        },
        "id": "3Kx-0eCviwtB",
        "outputId": "4455950d-436a-4854-b4e5-897e36f0025a"
      },
      "source": [
        "from google.colab import drive\n",
        "drive.mount('/content/drive', force_remount=True)"
      ],
      "execution_count": 82,
      "outputs": [
        {
          "output_type": "stream",
          "text": [
            "Mounted at /content/drive\n"
          ],
          "name": "stdout"
        }
      ]
    },
    {
      "cell_type": "markdown",
      "metadata": {
        "id": "RqLFhsJKjQUG"
      },
      "source": [
        "### Configurations"
      ]
    },
    {
      "cell_type": "markdown",
      "metadata": {
        "id": "XWL4XiY4a83F"
      },
      "source": [
        "#### Configure mode"
      ]
    },
    {
      "cell_type": "code",
      "metadata": {
        "colab": {
          "base_uri": "https://localhost:8080/"
        },
        "id": "elmZymW_awjh",
        "outputId": "d445d37c-e848-4215-900b-5da2fbf3eaac"
      },
      "source": [
        "MODES = {\r\n",
        "  'PLAYGROUND': 'playground',\r\n",
        "  'PRODUCTION': 'production',\r\n",
        "}\r\n",
        "MODE =  MODES['PRODUCTION'] # Can be one of 'PRODUCTION' and 'PLAYGROUND'\r\n",
        "logger.info(f'Notebook runs in mode {MODE}.')"
      ],
      "execution_count": 83,
      "outputs": [
        {
          "output_type": "stream",
          "text": [
            "[2020-12-09 21:45:03,113 - logger baseline - INFO] Notebook runs in mode production.\n"
          ],
          "name": "stdout"
        }
      ]
    },
    {
      "cell_type": "markdown",
      "metadata": {
        "id": "nzMOLkyxbCSE"
      },
      "source": [
        "#### Get notebook's start time"
      ]
    },
    {
      "cell_type": "code",
      "metadata": {
        "colab": {
          "base_uri": "https://localhost:8080/"
        },
        "id": "p6IOxivp3H0s",
        "outputId": "4356f99f-618d-4e5a-c604-e6f347d2f9d3"
      },
      "source": [
        "from datetime import datetime, tzinfo\r\n",
        "import pytz\r\n",
        "\r\n",
        "NB_RUN_TIME = datetime.now(tz=pytz.timezone('US/Eastern')).strftime('%Y%m%d-%H%M%S')\r\n",
        "logger.info(f'Notebook started at {NB_RUN_TIME}.')"
      ],
      "execution_count": 84,
      "outputs": [
        {
          "output_type": "stream",
          "text": [
            "[2020-12-09 21:45:03,121 - logger baseline - INFO] Notebook started at 20201209-164503.\n"
          ],
          "name": "stdout"
        }
      ]
    },
    {
      "cell_type": "markdown",
      "metadata": {
        "id": "0kt33kppbVMd"
      },
      "source": [
        "#### Other configurations"
      ]
    },
    {
      "cell_type": "code",
      "metadata": {
        "id": "0RDxpGWSjPXU"
      },
      "source": [
        "DEEPSPEECH_LOG_LEVEL = '1'\r\n",
        "DEEPSPEECH_PATH = '/content/DeepSpeech'\r\n",
        "DRIVE_PROJECT_ROOT_PATH = '/content/drive/MyDrive/nlp-project'\r\n",
        "DATASET_PATH = f'{DRIVE_PROJECT_ROOT_PATH}/tensorflow-speech-recognition-challenge'\r\n",
        "USE_GPU = True"
      ],
      "execution_count": 85,
      "outputs": []
    },
    {
      "cell_type": "markdown",
      "metadata": {
        "id": "iCvoUfbjbYHc"
      },
      "source": [
        "#### Set input and output paths"
      ]
    },
    {
      "cell_type": "code",
      "metadata": {
        "id": "Hx7mnMEdirFz"
      },
      "source": [
        "TRAIN_DIR = 'train'\n",
        "TEST_DIR = 'test'\n",
        "PLAYGROUND_DIR = 'playground'\n",
        "\n",
        "if MODE == MODES['PRODUCTION']:\n",
        "  TRAIN_FILES_PATH = f'{DATASET_PATH}/{TRAIN_DIR}/training_files.csv'\n",
        "  TEST_FILES_PATH = f'{DATASET_PATH}/{TEST_DIR}/testing_files.csv'\n",
        "  \n",
        "  # For now, we don't use test/audio because its audio files don't have transcriptions.\n",
        "  # Instead, we split train/audio into training set and testing set.\n",
        "  WAV_TRAIN_DIR = f'{DATASET_PATH}/{TRAIN_DIR}/audio'\n",
        "\n",
        "  OUTPUT_PATH = f'{DRIVE_PROJECT_ROOT_PATH}/xiaoyu-baseline/{NB_RUN_TIME}'\n",
        "else:\n",
        "  TRAIN_FILES_PATH = f'{DATASET_PATH}/{PLAYGROUND_DIR}/training_files.csv'\n",
        "  TEST_FILES_PATH = f'{DATASET_PATH}/{PLAYGROUND_DIR}/testing_files.csv'\n",
        "  \n",
        "  # For now, we don't use test/audio because its audio files don't have transcriptions.\n",
        "  # Instead, we split train/audio into training set and testing set.\n",
        "  WAV_TRAIN_DIR = f'{DATASET_PATH}/{PLAYGROUND_DIR}/audio'\n",
        "\n",
        "  OUTPUT_PATH = f'{DRIVE_PROJECT_ROOT_PATH}/xiaoyu-playground/{NB_RUN_TIME}'"
      ],
      "execution_count": 86,
      "outputs": []
    },
    {
      "cell_type": "markdown",
      "metadata": {
        "id": "djmMcMsMYHuY"
      },
      "source": [
        "### Install packages"
      ]
    },
    {
      "cell_type": "code",
      "metadata": {
        "colab": {
          "base_uri": "https://localhost:8080/"
        },
        "id": "CLjH9JzAYKFu",
        "outputId": "7d7886fc-8b95-4ae5-8d71-b33cfe64591a"
      },
      "source": [
        "%%bash -s \"$DEEPSPEECH_PATH\"\r\n",
        "DEEPSPEECH_PATH=$1\r\n",
        "\r\n",
        "if [ ! -d \"$DEEPSPEECH_PATH\" ] ; then\r\n",
        "  git clone --branch v0.9.2 https://github.com/mozilla/DeepSpeech $DEEPSPEECH_PATH\r\n",
        "fi\r\n",
        "\r\n",
        "cd $DEEPSPEECH_PATH\r\n",
        "pip install --upgrade pip==20.2.2 wheel==0.34.2 setuptools==49.6.0\r\n",
        "pip install --upgrade -e .\r\n",
        "\r\n",
        "# pip uninstall tensorflow -y\r\n",
        "pip install --upgrade tensorflow==1.15.4\r\n",
        "pip install tensorflow-gpu==1.15.4\r\n",
        "\r\n",
        "# Install other packages\r\n",
        "pip install pandas\r\n",
        "# tensorflow 1.15.4 requires numpy<1.19.0,>=1.16.0, but you'll have numpy 1.19.4 which is incompatible.\r\n",
        "pip install --upgrade numpy==1.16.0"
      ],
      "execution_count": 87,
      "outputs": [
        {
          "output_type": "stream",
          "text": [
            "Requirement already up-to-date: pip==20.2.2 in /usr/local/lib/python3.6/dist-packages (20.2.2)\n",
            "Requirement already up-to-date: wheel==0.34.2 in /usr/local/lib/python3.6/dist-packages (0.34.2)\n",
            "Requirement already up-to-date: setuptools==49.6.0 in /usr/local/lib/python3.6/dist-packages (49.6.0)\n",
            "Obtaining file:///content/DeepSpeech\n",
            "Requirement already satisfied, skipping upgrade: numpy in /usr/local/lib/python3.6/dist-packages (from deepspeech-training==0.9.2) (1.16.0)\n",
            "Requirement already satisfied, skipping upgrade: progressbar2 in /usr/local/lib/python3.6/dist-packages (from deepspeech-training==0.9.2) (3.38.0)\n",
            "Requirement already satisfied, skipping upgrade: six in /usr/local/lib/python3.6/dist-packages (from deepspeech-training==0.9.2) (1.15.0)\n",
            "Requirement already satisfied, skipping upgrade: pyxdg in /usr/local/lib/python3.6/dist-packages (from deepspeech-training==0.9.2) (0.27)\n",
            "Requirement already satisfied, skipping upgrade: attrdict in /usr/local/lib/python3.6/dist-packages (from deepspeech-training==0.9.2) (2.0.1)\n",
            "Requirement already satisfied, skipping upgrade: absl-py in /usr/local/lib/python3.6/dist-packages (from deepspeech-training==0.9.2) (0.10.0)\n",
            "Requirement already satisfied, skipping upgrade: semver in /usr/local/lib/python3.6/dist-packages (from deepspeech-training==0.9.2) (2.13.0)\n",
            "Requirement already satisfied, skipping upgrade: opuslib==2.0.0 in /usr/local/lib/python3.6/dist-packages (from deepspeech-training==0.9.2) (2.0.0)\n",
            "Requirement already satisfied, skipping upgrade: optuna in /usr/local/lib/python3.6/dist-packages (from deepspeech-training==0.9.2) (2.3.0)\n",
            "Requirement already satisfied, skipping upgrade: sox in /usr/local/lib/python3.6/dist-packages (from deepspeech-training==0.9.2) (1.4.1)\n",
            "Requirement already satisfied, skipping upgrade: bs4 in /usr/local/lib/python3.6/dist-packages (from deepspeech-training==0.9.2) (0.0.1)\n",
            "Requirement already satisfied, skipping upgrade: pandas in /usr/local/lib/python3.6/dist-packages (from deepspeech-training==0.9.2) (1.1.4)\n",
            "Requirement already satisfied, skipping upgrade: requests in /usr/local/lib/python3.6/dist-packages (from deepspeech-training==0.9.2) (2.23.0)\n",
            "Requirement already satisfied, skipping upgrade: numba==0.47.0 in /usr/local/lib/python3.6/dist-packages (from deepspeech-training==0.9.2) (0.47.0)\n",
            "Requirement already satisfied, skipping upgrade: llvmlite==0.31.0 in /usr/local/lib/python3.6/dist-packages (from deepspeech-training==0.9.2) (0.31.0)\n",
            "Requirement already satisfied, skipping upgrade: librosa in /usr/local/lib/python3.6/dist-packages (from deepspeech-training==0.9.2) (0.6.3)\n",
            "Requirement already satisfied, skipping upgrade: soundfile in /usr/local/lib/python3.6/dist-packages (from deepspeech-training==0.9.2) (0.10.3.post1)\n",
            "Requirement already satisfied, skipping upgrade: ds_ctcdecoder==0.9.2 in /usr/local/lib/python3.6/dist-packages (from deepspeech-training==0.9.2) (0.9.2)\n",
            "Requirement already satisfied, skipping upgrade: tensorflow==1.15.4 in /usr/local/lib/python3.6/dist-packages (from deepspeech-training==0.9.2) (1.15.4)\n",
            "Requirement already satisfied, skipping upgrade: python-utils>=2.3.0 in /usr/local/lib/python3.6/dist-packages (from progressbar2->deepspeech-training==0.9.2) (2.4.0)\n",
            "Requirement already satisfied, skipping upgrade: cliff in /usr/local/lib/python3.6/dist-packages (from optuna->deepspeech-training==0.9.2) (3.5.0)\n",
            "Requirement already satisfied, skipping upgrade: sqlalchemy>=1.1.0 in /usr/local/lib/python3.6/dist-packages (from optuna->deepspeech-training==0.9.2) (1.3.20)\n",
            "Requirement already satisfied, skipping upgrade: alembic in /usr/local/lib/python3.6/dist-packages (from optuna->deepspeech-training==0.9.2) (1.4.3)\n",
            "Requirement already satisfied, skipping upgrade: scipy!=1.4.0 in /usr/local/lib/python3.6/dist-packages (from optuna->deepspeech-training==0.9.2) (1.4.1)\n",
            "Requirement already satisfied, skipping upgrade: tqdm in /usr/local/lib/python3.6/dist-packages (from optuna->deepspeech-training==0.9.2) (4.41.1)\n",
            "Requirement already satisfied, skipping upgrade: packaging>=20.0 in /usr/local/lib/python3.6/dist-packages (from optuna->deepspeech-training==0.9.2) (20.4)\n",
            "Requirement already satisfied, skipping upgrade: joblib in /usr/local/lib/python3.6/dist-packages (from optuna->deepspeech-training==0.9.2) (0.17.0)\n",
            "Requirement already satisfied, skipping upgrade: cmaes>=0.6.0 in /usr/local/lib/python3.6/dist-packages (from optuna->deepspeech-training==0.9.2) (0.7.0)\n",
            "Requirement already satisfied, skipping upgrade: colorlog in /usr/local/lib/python3.6/dist-packages (from optuna->deepspeech-training==0.9.2) (4.6.2)\n",
            "Requirement already satisfied, skipping upgrade: beautifulsoup4 in /usr/local/lib/python3.6/dist-packages (from bs4->deepspeech-training==0.9.2) (4.6.3)\n",
            "Requirement already satisfied, skipping upgrade: pytz>=2017.2 in /usr/local/lib/python3.6/dist-packages (from pandas->deepspeech-training==0.9.2) (2018.9)\n",
            "Requirement already satisfied, skipping upgrade: python-dateutil>=2.7.3 in /usr/local/lib/python3.6/dist-packages (from pandas->deepspeech-training==0.9.2) (2.8.1)\n",
            "Requirement already satisfied, skipping upgrade: urllib3!=1.25.0,!=1.25.1,<1.26,>=1.21.1 in /usr/local/lib/python3.6/dist-packages (from requests->deepspeech-training==0.9.2) (1.24.3)\n",
            "Requirement already satisfied, skipping upgrade: chardet<4,>=3.0.2 in /usr/local/lib/python3.6/dist-packages (from requests->deepspeech-training==0.9.2) (3.0.4)\n",
            "Requirement already satisfied, skipping upgrade: certifi>=2017.4.17 in /usr/local/lib/python3.6/dist-packages (from requests->deepspeech-training==0.9.2) (2020.11.8)\n",
            "Requirement already satisfied, skipping upgrade: idna<3,>=2.5 in /usr/local/lib/python3.6/dist-packages (from requests->deepspeech-training==0.9.2) (2.10)\n",
            "Requirement already satisfied, skipping upgrade: setuptools in /usr/local/lib/python3.6/dist-packages (from numba==0.47.0->deepspeech-training==0.9.2) (49.6.0)\n",
            "Requirement already satisfied, skipping upgrade: decorator>=3.0.0 in /usr/local/lib/python3.6/dist-packages (from librosa->deepspeech-training==0.9.2) (4.4.2)\n",
            "Requirement already satisfied, skipping upgrade: scikit-learn!=0.19.0,>=0.14.0 in /usr/local/lib/python3.6/dist-packages (from librosa->deepspeech-training==0.9.2) (0.22.2.post1)\n",
            "Requirement already satisfied, skipping upgrade: resampy>=0.2.0 in /usr/local/lib/python3.6/dist-packages (from librosa->deepspeech-training==0.9.2) (0.2.2)\n",
            "Requirement already satisfied, skipping upgrade: audioread>=2.0.0 in /usr/local/lib/python3.6/dist-packages (from librosa->deepspeech-training==0.9.2) (2.1.9)\n",
            "Requirement already satisfied, skipping upgrade: cffi>=1.0 in /usr/local/lib/python3.6/dist-packages (from soundfile->deepspeech-training==0.9.2) (1.14.3)\n",
            "Requirement already satisfied, skipping upgrade: opt-einsum>=2.3.2 in /usr/local/lib/python3.6/dist-packages (from tensorflow==1.15.4->deepspeech-training==0.9.2) (3.3.0)\n",
            "Requirement already satisfied, skipping upgrade: termcolor>=1.1.0 in /usr/local/lib/python3.6/dist-packages (from tensorflow==1.15.4->deepspeech-training==0.9.2) (1.1.0)\n",
            "Requirement already satisfied, skipping upgrade: tensorboard<1.16.0,>=1.15.0 in /usr/local/lib/python3.6/dist-packages (from tensorflow==1.15.4->deepspeech-training==0.9.2) (1.15.0)\n",
            "Requirement already satisfied, skipping upgrade: wheel>=0.26; python_version >= \"3\" in /usr/local/lib/python3.6/dist-packages (from tensorflow==1.15.4->deepspeech-training==0.9.2) (0.34.2)\n",
            "Requirement already satisfied, skipping upgrade: astor>=0.6.0 in /usr/local/lib/python3.6/dist-packages (from tensorflow==1.15.4->deepspeech-training==0.9.2) (0.8.1)\n",
            "Requirement already satisfied, skipping upgrade: tensorflow-estimator==1.15.1 in /usr/local/lib/python3.6/dist-packages (from tensorflow==1.15.4->deepspeech-training==0.9.2) (1.15.1)\n",
            "Requirement already satisfied, skipping upgrade: keras-preprocessing>=1.0.5 in /usr/local/lib/python3.6/dist-packages (from tensorflow==1.15.4->deepspeech-training==0.9.2) (1.1.2)\n",
            "Requirement already satisfied, skipping upgrade: protobuf>=3.6.1 in /usr/local/lib/python3.6/dist-packages (from tensorflow==1.15.4->deepspeech-training==0.9.2) (3.12.4)\n",
            "Requirement already satisfied, skipping upgrade: wrapt>=1.11.1 in /usr/local/lib/python3.6/dist-packages (from tensorflow==1.15.4->deepspeech-training==0.9.2) (1.12.1)\n",
            "Requirement already satisfied, skipping upgrade: keras-applications>=1.0.8 in /usr/local/lib/python3.6/dist-packages (from tensorflow==1.15.4->deepspeech-training==0.9.2) (1.0.8)\n",
            "Requirement already satisfied, skipping upgrade: grpcio>=1.8.6 in /usr/local/lib/python3.6/dist-packages (from tensorflow==1.15.4->deepspeech-training==0.9.2) (1.33.2)\n",
            "Requirement already satisfied, skipping upgrade: gast==0.2.2 in /usr/local/lib/python3.6/dist-packages (from tensorflow==1.15.4->deepspeech-training==0.9.2) (0.2.2)\n",
            "Requirement already satisfied, skipping upgrade: google-pasta>=0.1.6 in /usr/local/lib/python3.6/dist-packages (from tensorflow==1.15.4->deepspeech-training==0.9.2) (0.2.0)\n",
            "Requirement already satisfied, skipping upgrade: cmd2!=0.8.3,>=0.8.0 in /usr/local/lib/python3.6/dist-packages (from cliff->optuna->deepspeech-training==0.9.2) (1.4.0)\n",
            "Requirement already satisfied, skipping upgrade: stevedore>=2.0.1 in /usr/local/lib/python3.6/dist-packages (from cliff->optuna->deepspeech-training==0.9.2) (3.3.0)\n",
            "Requirement already satisfied, skipping upgrade: pyparsing>=2.1.0 in /usr/local/lib/python3.6/dist-packages (from cliff->optuna->deepspeech-training==0.9.2) (2.4.7)\n",
            "Requirement already satisfied, skipping upgrade: PyYAML>=3.12 in /usr/local/lib/python3.6/dist-packages (from cliff->optuna->deepspeech-training==0.9.2) (3.13)\n",
            "Requirement already satisfied, skipping upgrade: PrettyTable<0.8,>=0.7.2 in /usr/local/lib/python3.6/dist-packages (from cliff->optuna->deepspeech-training==0.9.2) (0.7.2)\n",
            "Requirement already satisfied, skipping upgrade: pbr!=2.1.0,>=2.0.0 in /usr/local/lib/python3.6/dist-packages (from cliff->optuna->deepspeech-training==0.9.2) (5.5.1)\n",
            "Requirement already satisfied, skipping upgrade: python-editor>=0.3 in /usr/local/lib/python3.6/dist-packages (from alembic->optuna->deepspeech-training==0.9.2) (1.0.4)\n",
            "Requirement already satisfied, skipping upgrade: Mako in /usr/local/lib/python3.6/dist-packages (from alembic->optuna->deepspeech-training==0.9.2) (1.1.3)\n",
            "Requirement already satisfied, skipping upgrade: pycparser in /usr/local/lib/python3.6/dist-packages (from cffi>=1.0->soundfile->deepspeech-training==0.9.2) (2.20)\n",
            "Requirement already satisfied, skipping upgrade: markdown>=2.6.8 in /usr/local/lib/python3.6/dist-packages (from tensorboard<1.16.0,>=1.15.0->tensorflow==1.15.4->deepspeech-training==0.9.2) (3.3.3)\n",
            "Requirement already satisfied, skipping upgrade: werkzeug>=0.11.15 in /usr/local/lib/python3.6/dist-packages (from tensorboard<1.16.0,>=1.15.0->tensorflow==1.15.4->deepspeech-training==0.9.2) (1.0.1)\n",
            "Requirement already satisfied, skipping upgrade: h5py in /usr/local/lib/python3.6/dist-packages (from keras-applications>=1.0.8->tensorflow==1.15.4->deepspeech-training==0.9.2) (2.10.0)\n",
            "Requirement already satisfied, skipping upgrade: attrs>=16.3.0 in /usr/local/lib/python3.6/dist-packages (from cmd2!=0.8.3,>=0.8.0->cliff->optuna->deepspeech-training==0.9.2) (20.3.0)\n",
            "Requirement already satisfied, skipping upgrade: importlib-metadata>=1.6.0; python_version < \"3.8\" in /usr/local/lib/python3.6/dist-packages (from cmd2!=0.8.3,>=0.8.0->cliff->optuna->deepspeech-training==0.9.2) (2.0.0)\n",
            "Requirement already satisfied, skipping upgrade: pyperclip>=1.6 in /usr/local/lib/python3.6/dist-packages (from cmd2!=0.8.3,>=0.8.0->cliff->optuna->deepspeech-training==0.9.2) (1.8.1)\n",
            "Requirement already satisfied, skipping upgrade: colorama>=0.3.7 in /usr/local/lib/python3.6/dist-packages (from cmd2!=0.8.3,>=0.8.0->cliff->optuna->deepspeech-training==0.9.2) (0.4.4)\n",
            "Requirement already satisfied, skipping upgrade: wcwidth>=0.1.7 in /usr/local/lib/python3.6/dist-packages (from cmd2!=0.8.3,>=0.8.0->cliff->optuna->deepspeech-training==0.9.2) (0.2.5)\n",
            "Requirement already satisfied, skipping upgrade: MarkupSafe>=0.9.2 in /usr/local/lib/python3.6/dist-packages (from Mako->alembic->optuna->deepspeech-training==0.9.2) (1.1.1)\n",
            "Requirement already satisfied, skipping upgrade: zipp>=0.5 in /usr/local/lib/python3.6/dist-packages (from importlib-metadata>=1.6.0; python_version < \"3.8\"->cmd2!=0.8.3,>=0.8.0->cliff->optuna->deepspeech-training==0.9.2) (3.4.0)\n",
            "Installing collected packages: deepspeech-training\n",
            "  Attempting uninstall: deepspeech-training\n",
            "    Found existing installation: deepspeech-training 0.9.2\n",
            "    Can't uninstall 'deepspeech-training'. No files were found to uninstall.\n",
            "  Running setup.py develop for deepspeech-training\n",
            "Successfully installed deepspeech-training\n",
            "Requirement already up-to-date: tensorflow==1.15.4 in /usr/local/lib/python3.6/dist-packages (1.15.4)\n",
            "Requirement already satisfied, skipping upgrade: numpy<1.19.0,>=1.16.0 in /usr/local/lib/python3.6/dist-packages (from tensorflow==1.15.4) (1.16.0)\n",
            "Requirement already satisfied, skipping upgrade: termcolor>=1.1.0 in /usr/local/lib/python3.6/dist-packages (from tensorflow==1.15.4) (1.1.0)\n",
            "Requirement already satisfied, skipping upgrade: wrapt>=1.11.1 in /usr/local/lib/python3.6/dist-packages (from tensorflow==1.15.4) (1.12.1)\n",
            "Requirement already satisfied, skipping upgrade: opt-einsum>=2.3.2 in /usr/local/lib/python3.6/dist-packages (from tensorflow==1.15.4) (3.3.0)\n",
            "Requirement already satisfied, skipping upgrade: gast==0.2.2 in /usr/local/lib/python3.6/dist-packages (from tensorflow==1.15.4) (0.2.2)\n",
            "Requirement already satisfied, skipping upgrade: keras-preprocessing>=1.0.5 in /usr/local/lib/python3.6/dist-packages (from tensorflow==1.15.4) (1.1.2)\n",
            "Requirement already satisfied, skipping upgrade: tensorboard<1.16.0,>=1.15.0 in /usr/local/lib/python3.6/dist-packages (from tensorflow==1.15.4) (1.15.0)\n",
            "Requirement already satisfied, skipping upgrade: tensorflow-estimator==1.15.1 in /usr/local/lib/python3.6/dist-packages (from tensorflow==1.15.4) (1.15.1)\n",
            "Requirement already satisfied, skipping upgrade: protobuf>=3.6.1 in /usr/local/lib/python3.6/dist-packages (from tensorflow==1.15.4) (3.12.4)\n",
            "Requirement already satisfied, skipping upgrade: wheel>=0.26; python_version >= \"3\" in /usr/local/lib/python3.6/dist-packages (from tensorflow==1.15.4) (0.34.2)\n",
            "Requirement already satisfied, skipping upgrade: absl-py>=0.7.0 in /usr/local/lib/python3.6/dist-packages (from tensorflow==1.15.4) (0.10.0)\n",
            "Requirement already satisfied, skipping upgrade: six>=1.10.0 in /usr/local/lib/python3.6/dist-packages (from tensorflow==1.15.4) (1.15.0)\n",
            "Requirement already satisfied, skipping upgrade: google-pasta>=0.1.6 in /usr/local/lib/python3.6/dist-packages (from tensorflow==1.15.4) (0.2.0)\n",
            "Requirement already satisfied, skipping upgrade: astor>=0.6.0 in /usr/local/lib/python3.6/dist-packages (from tensorflow==1.15.4) (0.8.1)\n",
            "Requirement already satisfied, skipping upgrade: grpcio>=1.8.6 in /usr/local/lib/python3.6/dist-packages (from tensorflow==1.15.4) (1.33.2)\n",
            "Requirement already satisfied, skipping upgrade: keras-applications>=1.0.8 in /usr/local/lib/python3.6/dist-packages (from tensorflow==1.15.4) (1.0.8)\n",
            "Requirement already satisfied, skipping upgrade: markdown>=2.6.8 in /usr/local/lib/python3.6/dist-packages (from tensorboard<1.16.0,>=1.15.0->tensorflow==1.15.4) (3.3.3)\n",
            "Requirement already satisfied, skipping upgrade: setuptools>=41.0.0 in /usr/local/lib/python3.6/dist-packages (from tensorboard<1.16.0,>=1.15.0->tensorflow==1.15.4) (49.6.0)\n",
            "Requirement already satisfied, skipping upgrade: werkzeug>=0.11.15 in /usr/local/lib/python3.6/dist-packages (from tensorboard<1.16.0,>=1.15.0->tensorflow==1.15.4) (1.0.1)\n",
            "Requirement already satisfied, skipping upgrade: h5py in /usr/local/lib/python3.6/dist-packages (from keras-applications>=1.0.8->tensorflow==1.15.4) (2.10.0)\n",
            "Requirement already satisfied, skipping upgrade: importlib-metadata; python_version < \"3.8\" in /usr/local/lib/python3.6/dist-packages (from markdown>=2.6.8->tensorboard<1.16.0,>=1.15.0->tensorflow==1.15.4) (2.0.0)\n",
            "Requirement already satisfied, skipping upgrade: zipp>=0.5 in /usr/local/lib/python3.6/dist-packages (from importlib-metadata; python_version < \"3.8\"->markdown>=2.6.8->tensorboard<1.16.0,>=1.15.0->tensorflow==1.15.4) (3.4.0)\n",
            "Requirement already satisfied: tensorflow-gpu==1.15.4 in /usr/local/lib/python3.6/dist-packages (1.15.4)\n",
            "Requirement already satisfied: wrapt>=1.11.1 in /usr/local/lib/python3.6/dist-packages (from tensorflow-gpu==1.15.4) (1.12.1)\n",
            "Requirement already satisfied: tensorflow-estimator==1.15.1 in /usr/local/lib/python3.6/dist-packages (from tensorflow-gpu==1.15.4) (1.15.1)\n",
            "Requirement already satisfied: astor>=0.6.0 in /usr/local/lib/python3.6/dist-packages (from tensorflow-gpu==1.15.4) (0.8.1)\n",
            "Requirement already satisfied: google-pasta>=0.1.6 in /usr/local/lib/python3.6/dist-packages (from tensorflow-gpu==1.15.4) (0.2.0)\n",
            "Requirement already satisfied: absl-py>=0.7.0 in /usr/local/lib/python3.6/dist-packages (from tensorflow-gpu==1.15.4) (0.10.0)\n",
            "Requirement already satisfied: numpy<1.19.0,>=1.16.0 in /usr/local/lib/python3.6/dist-packages (from tensorflow-gpu==1.15.4) (1.16.0)\n",
            "Requirement already satisfied: termcolor>=1.1.0 in /usr/local/lib/python3.6/dist-packages (from tensorflow-gpu==1.15.4) (1.1.0)\n",
            "Requirement already satisfied: six>=1.10.0 in /usr/local/lib/python3.6/dist-packages (from tensorflow-gpu==1.15.4) (1.15.0)\n",
            "Requirement already satisfied: gast==0.2.2 in /usr/local/lib/python3.6/dist-packages (from tensorflow-gpu==1.15.4) (0.2.2)\n",
            "Requirement already satisfied: keras-preprocessing>=1.0.5 in /usr/local/lib/python3.6/dist-packages (from tensorflow-gpu==1.15.4) (1.1.2)\n",
            "Requirement already satisfied: keras-applications>=1.0.8 in /usr/local/lib/python3.6/dist-packages (from tensorflow-gpu==1.15.4) (1.0.8)\n",
            "Requirement already satisfied: tensorboard<1.16.0,>=1.15.0 in /usr/local/lib/python3.6/dist-packages (from tensorflow-gpu==1.15.4) (1.15.0)\n",
            "Requirement already satisfied: grpcio>=1.8.6 in /usr/local/lib/python3.6/dist-packages (from tensorflow-gpu==1.15.4) (1.33.2)\n",
            "Requirement already satisfied: wheel>=0.26; python_version >= \"3\" in /usr/local/lib/python3.6/dist-packages (from tensorflow-gpu==1.15.4) (0.34.2)\n",
            "Requirement already satisfied: protobuf>=3.6.1 in /usr/local/lib/python3.6/dist-packages (from tensorflow-gpu==1.15.4) (3.12.4)\n",
            "Requirement already satisfied: opt-einsum>=2.3.2 in /usr/local/lib/python3.6/dist-packages (from tensorflow-gpu==1.15.4) (3.3.0)\n",
            "Requirement already satisfied: h5py in /usr/local/lib/python3.6/dist-packages (from keras-applications>=1.0.8->tensorflow-gpu==1.15.4) (2.10.0)\n",
            "Requirement already satisfied: markdown>=2.6.8 in /usr/local/lib/python3.6/dist-packages (from tensorboard<1.16.0,>=1.15.0->tensorflow-gpu==1.15.4) (3.3.3)\n",
            "Requirement already satisfied: werkzeug>=0.11.15 in /usr/local/lib/python3.6/dist-packages (from tensorboard<1.16.0,>=1.15.0->tensorflow-gpu==1.15.4) (1.0.1)\n",
            "Requirement already satisfied: setuptools>=41.0.0 in /usr/local/lib/python3.6/dist-packages (from tensorboard<1.16.0,>=1.15.0->tensorflow-gpu==1.15.4) (49.6.0)\n",
            "Requirement already satisfied: importlib-metadata; python_version < \"3.8\" in /usr/local/lib/python3.6/dist-packages (from markdown>=2.6.8->tensorboard<1.16.0,>=1.15.0->tensorflow-gpu==1.15.4) (2.0.0)\n",
            "Requirement already satisfied: zipp>=0.5 in /usr/local/lib/python3.6/dist-packages (from importlib-metadata; python_version < \"3.8\"->markdown>=2.6.8->tensorboard<1.16.0,>=1.15.0->tensorflow-gpu==1.15.4) (3.4.0)\n",
            "Requirement already satisfied: pandas in /usr/local/lib/python3.6/dist-packages (1.1.4)\n",
            "Requirement already satisfied: python-dateutil>=2.7.3 in /usr/local/lib/python3.6/dist-packages (from pandas) (2.8.1)\n",
            "Requirement already satisfied: pytz>=2017.2 in /usr/local/lib/python3.6/dist-packages (from pandas) (2018.9)\n",
            "Requirement already satisfied: numpy>=1.15.4 in /usr/local/lib/python3.6/dist-packages (from pandas) (1.16.0)\n",
            "Requirement already satisfied: six>=1.5 in /usr/local/lib/python3.6/dist-packages (from python-dateutil>=2.7.3->pandas) (1.15.0)\n",
            "Requirement already up-to-date: numpy==1.16.0 in /usr/local/lib/python3.6/dist-packages (1.16.0)\n"
          ],
          "name": "stdout"
        }
      ]
    },
    {
      "cell_type": "markdown",
      "metadata": {
        "id": "jMFss5P5irFy"
      },
      "source": [
        "### Verify tensorflow can run on GPU"
      ]
    },
    {
      "cell_type": "code",
      "metadata": {
        "colab": {
          "base_uri": "https://localhost:8080/"
        },
        "id": "JmcWuwOTirFy",
        "outputId": "8214dec1-d4a5-4aa2-fe53-e273569eb682"
      },
      "source": [
        "import tensorflow as tf\n",
        "logger.info(f'tensorflow version: {tf.__version__}')\n",
        "\n",
        "if tf.test.gpu_device_name(): \n",
        "    logger.info('Using Default GPU Device: {}'.format(tf.test.gpu_device_name()))\n",
        "else:\n",
        "   logger.info(\"Not using GPU\")"
      ],
      "execution_count": 88,
      "outputs": [
        {
          "output_type": "stream",
          "text": [
            "[2020-12-09 21:45:22,168 - logger baseline - INFO] tensorflow version: 1.15.4\n",
            "[2020-12-09 21:45:22,186 - logger baseline - INFO] Using Default GPU Device: /device:GPU:0\n"
          ],
          "name": "stdout"
        }
      ]
    },
    {
      "cell_type": "markdown",
      "metadata": {
        "id": "smHI6JjeirFz"
      },
      "source": [
        "## Transform tensorflow-challenge dataset into DeepSpeech format"
      ]
    },
    {
      "cell_type": "code",
      "metadata": {
        "colab": {
          "base_uri": "https://localhost:8080/"
        },
        "id": "Hh_KFIDMirF0",
        "outputId": "78b504bd-4c75-4f43-c829-46d739e357f7"
      },
      "source": [
        "# Importer\n",
        "\n",
        "import os\n",
        "import sys\n",
        "import pandas\n",
        "\n",
        "from pathlib import Path\n",
        "\n",
        "\n",
        "def load_testing_files():\n",
        "    testing_list_path = f'{DATASET_PATH}/train/testing_list.txt'\n",
        "\n",
        "    with open(testing_list_path) as file:\n",
        "        testing_files = [line.rstrip() for line in file]\n",
        "        return testing_files\n",
        "\n",
        "\n",
        "def generate_files_list(testing_files):\n",
        "    if (os.path.exists(TRAIN_FILES_PATH) and\n",
        "            os.path.exists(TEST_FILES_PATH)):\n",
        "        logger.info(f'Skipping transforming data. Data files {TRAIN_FILES_PATH} and {TEST_FILES_PATH} already exist. ')\n",
        "        return\n",
        "\n",
        "    COLUMNS = ['wav_filename', 'wav_filesize', 'transcript']\n",
        "    training_data = []\n",
        "    testing_data = []\n",
        "\n",
        "    for path in Path(WAV_TRAIN_DIR).rglob('*.wav'):\n",
        "        wav_path_relative_to_wav_dir = str(path.relative_to(WAV_TRAIN_DIR))\n",
        "        wav_set = None\n",
        "\n",
        "        if wav_path_relative_to_wav_dir in testing_files:\n",
        "            wav_set = 'testing'\n",
        "        else:\n",
        "            wav_set = 'training'\n",
        "\n",
        "        wav_filename = path.name\n",
        "        transcript = wav_path_relative_to_wav_dir.split('/')[0]\n",
        "\n",
        "        logger.debug(\n",
        "            f'Wav: {wav_path_relative_to_wav_dir}; Dataset: {wav_set}; Transcript: {transcript}')\n",
        "\n",
        "        data = (str(path),\n",
        "                path.stat().st_size,\n",
        "                transcript)\n",
        "\n",
        "        if wav_set == 'training':\n",
        "            if transcript == '_background_noise_':\n",
        "                logger.debug(f'SKipping adding {wav_filename} to files list.')\n",
        "                continue\n",
        "\n",
        "            training_data.append(data)\n",
        "            \n",
        "        if wav_set == 'testing':\n",
        "            testing_data.append(data)\n",
        "\n",
        "    training_df = pandas.DataFrame(\n",
        "        data=training_data,\n",
        "        columns=COLUMNS,\n",
        "    )\n",
        "    training_df.to_csv(os.path.join(TRAIN_FILES_PATH), index=False)\n",
        "    logger.info(f'Train data files generated at {TRAIN_FILES_PATH}.')\n",
        "\n",
        "    testing_df = pandas.DataFrame(\n",
        "        data=testing_data,\n",
        "        columns=COLUMNS,\n",
        "    )\n",
        "    testing_df.to_csv(os.path.join(TEST_FILES_PATH), index=False)\n",
        "    logger.info(f'Test data files generated at {TRAIN_FILES_PATH}.')\n",
        "\n",
        "\n",
        "def transform_data():\n",
        "    # Load testing files list\n",
        "    testing_files = load_testing_files()\n",
        "    # Generate files list\n",
        "    generate_files_list(testing_files)\n",
        "\n",
        "\n",
        "transform_data()"
      ],
      "execution_count": 89,
      "outputs": [
        {
          "output_type": "stream",
          "text": [
            "[2020-12-09 21:45:22,249 - logger baseline - INFO] Skipping transforming data. Data files /content/drive/MyDrive/nlp-project/tensorflow-speech-recognition-challenge/train/training_files.csv and /content/drive/MyDrive/nlp-project/tensorflow-speech-recognition-challenge/test/testing_files.csv already exist. \n"
          ],
          "name": "stdout"
        }
      ]
    },
    {
      "cell_type": "markdown",
      "metadata": {
        "id": "1cajWfK1vkrX"
      },
      "source": [
        "# Train a baseline model\r\n",
        "\r\n",
        "Train a DeepSpeech model with Kaggle Tensorflow challenge's dataset to establish the baseline."
      ]
    },
    {
      "cell_type": "code",
      "metadata": {
        "id": "65cHU_DoirF0",
        "scrolled": false
      },
      "source": [
        "%%bash -s \"$DEEPSPEECH_PATH\" \"$TRAIN_FILES_PATH\" \"$TEST_FILES_PATH\" \"$OUTPUT_PATH\" \"$DEEPSPEECH_LOG_LEVEL\"\r\n",
        "DEEPSPEECH_PATH=$1\r\n",
        "TRAIN_FILES_PATH=$2\r\n",
        "TEST_FILES_PATH=$3\r\n",
        "OUTPUT_PATH=$4\r\n",
        "DEEPSPEECH_LOG_LEVEL=$5\r\n",
        "\r\n",
        "cd $DEEPSPEECH_PATH\r\n",
        "python DeepSpeech.py \\\r\n",
        "  --alphabet_config_path data/alphabet.txt \\\r\n",
        "  --train_files \"$TRAIN_FILES_PATH\" \\\r\n",
        "  --test_files \"$TEST_FILES_PATH\" \\\r\n",
        "  --checkpoint_dir \"$OUTPUT_PATH/checkpoints\" \\\r\n",
        "  --export_dir \"$OUTPUT_PATH/models\" \\\r\n",
        "  --epochs 5 \\\r\n",
        "  --log_level \"$DEEPSPEECH_LOG_LEVEL\" \\\r\n",
        "  --test_output_file \"$OUTPUT_PATH/test-output.txt\" \\\r\n",
        "  --summary_dir \"$OUTPUT_PATH/summary\""
      ],
      "execution_count": null,
      "outputs": []
    }
  ]
}